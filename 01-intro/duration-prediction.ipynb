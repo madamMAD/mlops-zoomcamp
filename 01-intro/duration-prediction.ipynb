{
 "cells": [
  {
   "cell_type": "code",
   "execution_count": 23,
   "id": "b871d337",
   "metadata": {},
   "outputs": [],
   "source": [
    "import pandas as pd\n",
    "import seaborn as sns\n",
    "import matplotlib.pyplot as plt"
   ]
  },
  {
   "cell_type": "code",
   "execution_count": 3,
   "id": "aae61070",
   "metadata": {},
   "outputs": [],
   "source": [
    "# 2021\n",
    "df_jan = pd.read_parquet('https://d37ci6vzurychx.cloudfront.net/trip-data/green_tripdata_2021-01.parquet')\n",
    "df_feb = pd.read_parquet('https://d37ci6vzurychx.cloudfront.net/trip-data/green_tripdata_2021-02.parquet')"
   ]
  },
  {
   "cell_type": "code",
   "execution_count": 27,
   "id": "ec72a32f",
   "metadata": {},
   "outputs": [],
   "source": [
    "df = df_jan\n",
    "df = df[df.trip_type == 2]"
   ]
  },
  {
   "cell_type": "code",
   "execution_count": 35,
   "id": "4e8926f1",
   "metadata": {},
   "outputs": [
    {
     "name": "stderr",
     "output_type": "stream",
     "text": [
      "/tmp/ipykernel_47963/31850212.py:1: SettingWithCopyWarning: \n",
      "A value is trying to be set on a copy of a slice from a DataFrame.\n",
      "Try using .loc[row_indexer,col_indexer] = value instead\n",
      "\n",
      "See the caveats in the documentation: https://pandas.pydata.org/pandas-docs/stable/user_guide/indexing.html#returning-a-view-versus-a-copy\n",
      "  df['duration'] = df.lpep_dropoff_datetime-df.lpep_pickup_datetime\n"
     ]
    }
   ],
   "source": [
    "df['duration'] = df.lpep_dropoff_datetime-df.lpep_pickup_datetime"
   ]
  },
  {
   "cell_type": "code",
   "execution_count": 36,
   "id": "de68ef6d",
   "metadata": {},
   "outputs": [
    {
     "name": "stderr",
     "output_type": "stream",
     "text": [
      "/tmp/ipykernel_47963/58945543.py:1: SettingWithCopyWarning: \n",
      "A value is trying to be set on a copy of a slice from a DataFrame.\n",
      "Try using .loc[row_indexer,col_indexer] = value instead\n",
      "\n",
      "See the caveats in the documentation: https://pandas.pydata.org/pandas-docs/stable/user_guide/indexing.html#returning-a-view-versus-a-copy\n",
      "  df.duration = (df['duration'].dt.total_seconds()) / 60\n"
     ]
    }
   ],
   "source": [
    "df.duration = (df['duration'].dt.total_seconds()) / 60"
   ]
  },
  {
   "cell_type": "code",
   "execution_count": 21,
   "id": "cdd249ca",
   "metadata": {},
   "outputs": [],
   "source": [
    "# df.duration.apply(lambda td: td.total_seconds()/60)"
   ]
  },
  {
   "cell_type": "code",
   "execution_count": 37,
   "id": "0a7a8128",
   "metadata": {},
   "outputs": [
    {
     "name": "stderr",
     "output_type": "stream",
     "text": [
      "/home/codespace/anaconda3/lib/python3.9/site-packages/seaborn/distributions.py:2619: FutureWarning: `distplot` is a deprecated function and will be removed in a future version. Please adapt your code to use either `displot` (a figure-level function with similar flexibility) or `histplot` (an axes-level function for histograms).\n",
      "  warnings.warn(msg, FutureWarning)\n"
     ]
    },
    {
     "data": {
      "text/plain": [
       "<AxesSubplot:xlabel='duration', ylabel='Density'>"
      ]
     },
     "execution_count": 37,
     "metadata": {},
     "output_type": "execute_result"
    },
    {
     "data": {
      "image/png": "[encoded data removed]",
      "text/plain": [
       "<Figure size 432x288 with 1 Axes>"
      ]
     },
     "metadata": {
      "needs_background": "light"
     },
     "output_type": "display_data"
    }
   ],
   "source": [
    "sns.distplot(df.duration)"
   ]
  },
  {
   "cell_type": "code",
   "execution_count": 38,
   "id": "7d8c0c37",
   "metadata": {},
   "outputs": [
    {
     "data": {
      "text/plain": [
       "count    1238.000000\n",
       "mean       18.305493\n",
       "std       108.364382\n",
       "min         0.000000\n",
       "25%         0.100000\n",
       "50%         1.666667\n",
       "75%        14.216667\n",
       "max      1416.100000\n",
       "Name: duration, dtype: float64"
      ]
     },
     "execution_count": 38,
     "metadata": {},
     "output_type": "execute_result"
    }
   ],
   "source": [
    "df.duration.describe()"
   ]
  },
  {
   "cell_type": "code",
   "execution_count": 39,
   "id": "f00d34b3",
   "metadata": {},
   "outputs": [
    {
     "data": {
      "text/plain": [
       "count    1238.000000\n",
       "mean       18.305493\n",
       "std       108.364382\n",
       "min         0.000000\n",
       "50%         1.666667\n",
       "95%        35.604167\n",
       "98%        59.339333\n",
       "99%       149.837833\n",
       "max      1416.100000\n",
       "Name: duration, dtype: float64"
      ]
     },
     "execution_count": 39,
     "metadata": {},
     "output_type": "execute_result"
    }
   ],
   "source": [
    "df.duration.describe(percentiles=[0.95, 0.98, 0.99])"
   ]
  },
  {
   "cell_type": "code",
   "execution_count": 40,
   "id": "a0ec4dab",
   "metadata": {},
   "outputs": [
    {
     "data": {
      "text/plain": [
       "0.5169628432956381"
      ]
     },
     "execution_count": 40,
     "metadata": {},
     "output_type": "execute_result"
    }
   ],
   "source": [
    "((df.duration > 1) & (df.duration <=60)).mean()"
   ]
  },
  {
   "cell_type": "code",
   "execution_count": 41,
   "id": "f8b9d55c",
   "metadata": {},
   "outputs": [
    {
     "data": {
      "text/plain": [
       "6        False\n",
       "15       False\n",
       "30        True\n",
       "43       False\n",
       "45       False\n",
       "         ...  \n",
       "40363     True\n",
       "40364     True\n",
       "40377    False\n",
       "40394    False\n",
       "40430     True\n",
       "Name: duration, Length: 1238, dtype: bool"
      ]
     },
     "execution_count": 41,
     "metadata": {},
     "output_type": "execute_result"
    }
   ],
   "source": [
    "((df.duration > 1) & (df.duration <=60))"
   ]
  }
 ],
 "metadata": {
  "kernelspec": {
   "display_name": "Python 3 (ipykernel)",
   "language": "python",
   "name": "python3"
  },
  "language_info": {
   "codemirror_mode": {
    "name": "ipython",
    "version": 3
   },
   "file_extension": ".py",
   "mimetype": "text/x-python",
   "name": "python",
   "nbconvert_exporter": "python",
   "pygments_lexer": "ipython3",
   "version": "3.9.12"
  }
 },
 "nbformat": 4,
 "nbformat_minor": 5
}
